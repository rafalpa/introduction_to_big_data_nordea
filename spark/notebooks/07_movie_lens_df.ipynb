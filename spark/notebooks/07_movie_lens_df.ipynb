{
 "cells": [
  {
   "cell_type": "markdown",
   "metadata": {},
   "source": [
    "# MovieLens with Spark SQL\n",
    "\n",
    "[MovieLense](https://movielens.org/) is a web page that with movie recommendations [IMDB](http://www.imdb.com/). Data is available at [tym adresem](http://grouplens.org/datasets/movielens/). You can find data in `data/ml-100k`. More precise description od data can be found at `data/ml-100k/README`."
   ]
  },
  {
   "cell_type": "code",
   "execution_count": 1,
   "metadata": {},
   "outputs": [],
   "source": [
    "import pyspark\n",
    "import pyspark.sql.functions as func\n",
    "import pyspark.sql.types as types\n",
    "import matplotlib\n",
    "%matplotlib inline \n",
    "sc = pyspark.SparkContext(appName='MovieLens')\n",
    "sqlContext = pyspark.sql.SQLContext(sc)"
   ]
  },
  {
   "cell_type": "markdown",
   "metadata": {},
   "source": [
    "Poniżej definiujemy kilka funkcji narzędziowych."
   ]
  },
  {
   "cell_type": "code",
   "execution_count": 2,
   "metadata": {},
   "outputs": [],
   "source": [
    "def to_bool(value):\n",
    "    '''\n",
    "    Converts values (0, 1 (non-zero)) to boolean\n",
    "    \n",
    "    @param value: int value to convert\n",
    "    '''\n",
    "    v = int(value)\n",
    "    return False if v == 0 else True"
   ]
  },
  {
   "cell_type": "code",
   "execution_count": 3,
   "metadata": {},
   "outputs": [],
   "source": [
    "def data_from_csv(line):\n",
    "    '''\n",
    "    Converts a line of data table from CSV to DataFrame Row\n",
    "    \n",
    "    @param line: line of data row \n",
    "    @returns: Row of parsed values\n",
    "    '''\n",
    "    c = line.split('\\t')\n",
    "    \n",
    "    row = dict()\n",
    "    row['userId'] = int(c[0])\n",
    "    row['itemId'] = int(c[1])\n",
    "    row['rating'] = int(c[2])\n",
    "    row['timestamp'] = int(c[3]) # Timestamp Unix to long ale w Python 3 int to zarówno int jak long z Python 2.\n",
    "    \n",
    "    return pyspark.Row(**row)"
   ]
  },
  {
   "cell_type": "code",
   "execution_count": 4,
   "metadata": {},
   "outputs": [],
   "source": [
    "def item_from_csv(line):\n",
    "    '''\n",
    "    Converts a line of item table from CSV to DataFrame Row\n",
    "    \n",
    "    @param line: line of item row \n",
    "    @returns: Row of parsed values\n",
    "    '''\n",
    "    c = line.split('|')\n",
    "    \n",
    "    row = dict()\n",
    "    row['movieId'] = int(c[0])\n",
    "    row['movieTitle'] = str(c[1])\n",
    "    row['releaseDate'] = str(c[2])\n",
    "    row['videoReleaseDate'] = str(c[3])\n",
    "    row['imdbUrl'] = str(c[4])\n",
    "    row['unknown'] = to_bool(c[5])\n",
    "    row['action'] = to_bool(c[6])\n",
    "    row['adventure'] = to_bool(c[7])\n",
    "    row['animation'] = to_bool(c[8])\n",
    "    row['childrens'] = to_bool(c[9])\n",
    "    row['comedy'] = to_bool(c[10])\n",
    "    row['crime'] = to_bool(c[11])\n",
    "    row['documentary'] = to_bool(c[12])\n",
    "    row['drama'] = to_bool(c[13])\n",
    "    row['fantasy'] = to_bool(c[14])\n",
    "    row['filmNoir'] = to_bool(c[15])\n",
    "    row['horror'] = to_bool(c[16])\n",
    "    row['musical'] = to_bool(c[17])\n",
    "    row['mystery'] = to_bool(c[18])\n",
    "    row['romance'] = to_bool(c[19])\n",
    "    row['sciFi'] = to_bool(c[20])\n",
    "    row['thriller'] = to_bool(c[21])\n",
    "    row['war'] = to_bool(c[22])\n",
    "    row['western'] = to_bool(c[23])\n",
    "    \n",
    "    return pyspark.Row(**row)"
   ]
  },
  {
   "cell_type": "code",
   "execution_count": 5,
   "metadata": {},
   "outputs": [],
   "source": [
    "def user_from_csv(line):\n",
    "    '''\n",
    "    Converts a line of user table from CSV to DataFrame Row\n",
    "    \n",
    "    @param line: line of user row \n",
    "    @returns: Row of parsed values\n",
    "    '''\n",
    "    c = line.split('|')\n",
    "    \n",
    "    row = dict()\n",
    "    row['userId'] = int(c[0])\n",
    "    row['age'] = str(c[1])\n",
    "    row['gender'] = str(c[2])\n",
    "    row['occupation'] = str(c[3])\n",
    "    row['zipCode'] = str(c[4])\n",
    "        \n",
    "    return pyspark.Row(**row)"
   ]
  },
  {
   "cell_type": "markdown",
   "metadata": {},
   "source": [
    "Wczytujemy dane do DataFrame."
   ]
  },
  {
   "cell_type": "code",
   "execution_count": 7,
   "metadata": {},
   "outputs": [
    {
     "name": "stdout",
     "output_type": "stream",
     "text": [
      "root\n",
      " |-- itemId: long (nullable = true)\n",
      " |-- rating: long (nullable = true)\n",
      " |-- timestamp: long (nullable = true)\n",
      " |-- userId: long (nullable = true)\n",
      "\n",
      "+------+------+---------+------+\n",
      "|itemId|rating|timestamp|userId|\n",
      "+------+------+---------+------+\n",
      "|   242|     3|881250949|   196|\n",
      "|   302|     3|891717742|   186|\n",
      "|   377|     1|878887116|    22|\n",
      "|    51|     2|880606923|   244|\n",
      "|   346|     1|886397596|   166|\n",
      "|   474|     4|884182806|   298|\n",
      "|   265|     2|881171488|   115|\n",
      "|   465|     5|891628467|   253|\n",
      "|   451|     3|886324817|   305|\n",
      "|    86|     3|883603013|     6|\n",
      "|   257|     2|879372434|    62|\n",
      "|  1014|     5|879781125|   286|\n",
      "|   222|     5|876042340|   200|\n",
      "|    40|     3|891035994|   210|\n",
      "|    29|     3|888104457|   224|\n",
      "|   785|     3|879485318|   303|\n",
      "|   387|     5|879270459|   122|\n",
      "|   274|     2|879539794|   194|\n",
      "|  1042|     4|874834944|   291|\n",
      "|  1184|     2|892079237|   234|\n",
      "+------+------+---------+------+\n",
      "only showing top 20 rows\n",
      "\n"
     ]
    }
   ],
   "source": [
    "data_rdd = sc.textFile('data/ml-100k/u.data').map(data_from_csv)\n",
    "data = sqlContext.createDataFrame(data_rdd)\n",
    "data.printSchema()\n",
    "data.show()"
   ]
  },
  {
   "cell_type": "code",
   "execution_count": 8,
   "metadata": {},
   "outputs": [
    {
     "name": "stdout",
     "output_type": "stream",
     "text": [
      "root\n",
      " |-- action: boolean (nullable = true)\n",
      " |-- adventure: boolean (nullable = true)\n",
      " |-- animation: boolean (nullable = true)\n",
      " |-- childrens: boolean (nullable = true)\n",
      " |-- comedy: boolean (nullable = true)\n",
      " |-- crime: boolean (nullable = true)\n",
      " |-- documentary: boolean (nullable = true)\n",
      " |-- drama: boolean (nullable = true)\n",
      " |-- fantasy: boolean (nullable = true)\n",
      " |-- filmNoir: boolean (nullable = true)\n",
      " |-- horror: boolean (nullable = true)\n",
      " |-- imdbUrl: string (nullable = true)\n",
      " |-- movieId: long (nullable = true)\n",
      " |-- movieTitle: string (nullable = true)\n",
      " |-- musical: boolean (nullable = true)\n",
      " |-- mystery: boolean (nullable = true)\n",
      " |-- releaseDate: string (nullable = true)\n",
      " |-- romance: boolean (nullable = true)\n",
      " |-- sciFi: boolean (nullable = true)\n",
      " |-- thriller: boolean (nullable = true)\n",
      " |-- unknown: boolean (nullable = true)\n",
      " |-- videoReleaseDate: string (nullable = true)\n",
      " |-- war: boolean (nullable = true)\n",
      " |-- western: boolean (nullable = true)\n",
      "\n",
      "+------+---------+---------+---------+------+-----+-----------+-----+-------+--------+------+--------------------+-------+--------------------+-------+-------+-----------+-------+-----+--------+-------+----------------+-----+-------+\n",
      "|action|adventure|animation|childrens|comedy|crime|documentary|drama|fantasy|filmNoir|horror|             imdbUrl|movieId|          movieTitle|musical|mystery|releaseDate|romance|sciFi|thriller|unknown|videoReleaseDate|  war|western|\n",
      "+------+---------+---------+---------+------+-----+-----------+-----+-------+--------+------+--------------------+-------+--------------------+-------+-------+-----------+-------+-----+--------+-------+----------------+-----+-------+\n",
      "| false|    false|     true|     true|  true|false|      false|false|  false|   false| false|http://us.imdb.co...|      1|    Toy Story (1995)|  false|  false|01-Jan-1995|  false|false|   false|  false|                |false|  false|\n",
      "|  true|     true|    false|    false| false|false|      false|false|  false|   false| false|http://us.imdb.co...|      2|    GoldenEye (1995)|  false|  false|01-Jan-1995|  false|false|    true|  false|                |false|  false|\n",
      "| false|    false|    false|    false| false|false|      false|false|  false|   false| false|http://us.imdb.co...|      3|   Four Rooms (1995)|  false|  false|01-Jan-1995|  false|false|    true|  false|                |false|  false|\n",
      "|  true|    false|    false|    false|  true|false|      false| true|  false|   false| false|http://us.imdb.co...|      4|   Get Shorty (1995)|  false|  false|01-Jan-1995|  false|false|   false|  false|                |false|  false|\n",
      "| false|    false|    false|    false| false| true|      false| true|  false|   false| false|http://us.imdb.co...|      5|      Copycat (1995)|  false|  false|01-Jan-1995|  false|false|    true|  false|                |false|  false|\n",
      "| false|    false|    false|    false| false|false|      false| true|  false|   false| false|http://us.imdb.co...|      6|Shanghai Triad (Y...|  false|  false|01-Jan-1995|  false|false|   false|  false|                |false|  false|\n",
      "| false|    false|    false|    false| false|false|      false| true|  false|   false| false|http://us.imdb.co...|      7|Twelve Monkeys (1...|  false|  false|01-Jan-1995|  false| true|   false|  false|                |false|  false|\n",
      "| false|    false|    false|     true|  true|false|      false| true|  false|   false| false|http://us.imdb.co...|      8|         Babe (1995)|  false|  false|01-Jan-1995|  false|false|   false|  false|                |false|  false|\n",
      "| false|    false|    false|    false| false|false|      false| true|  false|   false| false|http://us.imdb.co...|      9|Dead Man Walking ...|  false|  false|01-Jan-1995|  false|false|   false|  false|                |false|  false|\n",
      "| false|    false|    false|    false| false|false|      false| true|  false|   false| false|http://us.imdb.co...|     10|  Richard III (1995)|  false|  false|22-Jan-1996|  false|false|   false|  false|                | true|  false|\n",
      "| false|    false|    false|    false| false| true|      false|false|  false|   false| false|http://us.imdb.co...|     11|Seven (Se7en) (1995)|  false|  false|01-Jan-1995|  false|false|    true|  false|                |false|  false|\n",
      "| false|    false|    false|    false| false| true|      false|false|  false|   false| false|http://us.imdb.co...|     12|Usual Suspects, T...|  false|  false|14-Aug-1995|  false|false|    true|  false|                |false|  false|\n",
      "| false|    false|    false|    false|  true|false|      false|false|  false|   false| false|http://us.imdb.co...|     13|Mighty Aphrodite ...|  false|  false|30-Oct-1995|  false|false|   false|  false|                |false|  false|\n",
      "| false|    false|    false|    false| false|false|      false| true|  false|   false| false|http://us.imdb.co...|     14|  Postino, Il (1994)|  false|  false|01-Jan-1994|   true|false|   false|  false|                |false|  false|\n",
      "| false|    false|    false|    false| false|false|      false| true|  false|   false| false|http://us.imdb.co...|     15|Mr. Holland's Opu...|  false|  false|29-Jan-1996|  false|false|   false|  false|                |false|  false|\n",
      "| false|    false|    false|    false|  true|false|      false|false|  false|   false| false|http://us.imdb.co...|     16|French Twist (Gaz...|  false|  false|01-Jan-1995|   true|false|   false|  false|                |false|  false|\n",
      "|  true|    false|    false|    false|  true| true|      false|false|  false|   false|  true|http://us.imdb.co...|     17|From Dusk Till Da...|  false|  false|05-Feb-1996|  false|false|    true|  false|                |false|  false|\n",
      "| false|    false|    false|    false| false|false|      false| true|  false|   false| false|http://us.imdb.co...|     18|White Balloon, Th...|  false|  false|01-Jan-1995|  false|false|   false|  false|                |false|  false|\n",
      "| false|    false|    false|    false| false|false|      false| true|  false|   false| false|http://us.imdb.co...|     19|Antonia's Line (1...|  false|  false|01-Jan-1995|  false|false|   false|  false|                |false|  false|\n",
      "| false|    false|    false|    false| false|false|      false| true|  false|   false| false|http://us.imdb.co...|     20|Angels and Insect...|  false|  false|01-Jan-1995|   true|false|   false|  false|                |false|  false|\n",
      "+------+---------+---------+---------+------+-----+-----------+-----+-------+--------+------+--------------------+-------+--------------------+-------+-------+-----------+-------+-----+--------+-------+----------------+-----+-------+\n",
      "only showing top 20 rows\n",
      "\n"
     ]
    }
   ],
   "source": [
    "item_rdd = sc.textFile('data/ml-100k/u.item').map(item_from_csv)\n",
    "item = sqlContext.createDataFrame(item_rdd)\n",
    "item.printSchema()\n",
    "item.show()"
   ]
  },
  {
   "cell_type": "code",
   "execution_count": 9,
   "metadata": {},
   "outputs": [
    {
     "name": "stdout",
     "output_type": "stream",
     "text": [
      "root\n",
      " |-- age: string (nullable = true)\n",
      " |-- gender: string (nullable = true)\n",
      " |-- occupation: string (nullable = true)\n",
      " |-- userId: long (nullable = true)\n",
      " |-- zipCode: string (nullable = true)\n",
      "\n",
      "+---+------+-------------+------+-------+\n",
      "|age|gender|   occupation|userId|zipCode|\n",
      "+---+------+-------------+------+-------+\n",
      "| 24|     M|   technician|     1|  85711|\n",
      "| 53|     F|        other|     2|  94043|\n",
      "| 23|     M|       writer|     3|  32067|\n",
      "| 24|     M|   technician|     4|  43537|\n",
      "| 33|     F|        other|     5|  15213|\n",
      "| 42|     M|    executive|     6|  98101|\n",
      "| 57|     M|administrator|     7|  91344|\n",
      "| 36|     M|administrator|     8|  05201|\n",
      "| 29|     M|      student|     9|  01002|\n",
      "| 53|     M|       lawyer|    10|  90703|\n",
      "| 39|     F|        other|    11|  30329|\n",
      "| 28|     F|        other|    12|  06405|\n",
      "| 47|     M|     educator|    13|  29206|\n",
      "| 45|     M|    scientist|    14|  55106|\n",
      "| 49|     F|     educator|    15|  97301|\n",
      "| 21|     M|entertainment|    16|  10309|\n",
      "| 30|     M|   programmer|    17|  06355|\n",
      "| 35|     F|        other|    18|  37212|\n",
      "| 40|     M|    librarian|    19|  02138|\n",
      "| 42|     F|    homemaker|    20|  95660|\n",
      "+---+------+-------------+------+-------+\n",
      "only showing top 20 rows\n",
      "\n"
     ]
    }
   ],
   "source": [
    "user_rdd = sc.textFile('data/ml-100k/u.user').map(user_from_csv)\n",
    "user = sqlContext.createDataFrame(user_rdd)\n",
    "user.printSchema()\n",
    "user.show()"
   ]
  },
  {
   "cell_type": "markdown",
   "metadata": {},
   "source": [
    "## Exercises\n",
    "\n",
    "* Find all films from yesr 1983; how many are there?\n",
    "* Count frequency of user occupations.\n",
    "* Find top 20 films with highest rating.\n",
    "* ★ Find best movie (best rating) for top 20 most frequent users.\n"
   ]
  }
 ],
 "metadata": {
  "anaconda-cloud": {},
  "kernelspec": {
   "display_name": "Python [default]",
   "language": "python",
   "name": "python3"
  },
  "language_info": {
   "codemirror_mode": {
    "name": "ipython",
    "version": 3
   },
   "file_extension": ".py",
   "mimetype": "text/x-python",
   "name": "python",
   "nbconvert_exporter": "python",
   "pygments_lexer": "ipython3",
   "version": "3.5.4"
  }
 },
 "nbformat": 4,
 "nbformat_minor": 1
}
